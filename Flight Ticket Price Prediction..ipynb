{
 "cells": [
  {
   "cell_type": "markdown",
   "id": "a1941e32",
   "metadata": {},
   "source": [
    "## Flight Ticket Price Prediction"
   ]
  },
  {
   "cell_type": "markdown",
   "id": "3724f47e",
   "metadata": {},
   "source": [
    "### Problem Statement:"
   ]
  },
  {
   "cell_type": "markdown",
   "id": "ebf917d0",
   "metadata": {},
   "source": [
    "Anyone who has booked a flight ticket knows how unexpectedly the prices vary. The cheapest available ticket on a given flight gets more and less expensive over time. This usually happens as an attempt to maximize revenue based on -"
   ]
  },
  {
   "cell_type": "markdown",
   "id": "8f871ab4",
   "metadata": {},
   "source": [
    "1. Time of purchase patterns (making sure last-minute purchases are expensive)\n",
    "\n",
    "2. Keeping the flight as full as they want it (raising prices on a flight which is filling up in order to reduce sales and hold back inventory for those expensive last-minute expensive purchases)"
   ]
  },
  {
   "cell_type": "markdown",
   "id": "aa0a6e57",
   "metadata": {},
   "source": [
    "Model Building Phase\n",
    "\n",
    "After collecting/scraping the data, we have around 1948 rows and 9 columns. We need to build a machine learning model. Before model building, we will be doing data pre-processing steps. We will try different models with different hyper parameters and select the best model.\n",
    "\n",
    "Size of training dataset: 1948 records"
   ]
  },
  {
   "cell_type": "markdown",
   "id": "6caadfeb",
   "metadata": {},
   "source": [
    "### Features"
   ]
  },
  {
   "cell_type": "markdown",
   "id": "959f5b4f",
   "metadata": {},
   "source": [
    "Airline: The name of the airline.\n",
    "\n",
    "Source: The source from which the service begins.\n",
    "\n",
    "Destination: The destination where the service ends.\n",
    "\n",
    "Dep_Time: The time when the journey starts from the source.\n",
    "\n",
    "Arrival_Time: Time of arrival at the destination.\n",
    "\n",
    "Duration: Total duration of the flight.\n",
    "\n",
    "Total_Stops: Total stops between the source and destination.\n",
    "\n",
    "Additional_Info: Additional information about meal on the flight\n",
    "\n",
    "Price: The price of the ticket"
   ]
  },
  {
   "cell_type": "markdown",
   "id": "e91e6094",
   "metadata": {},
   "source": [
    "### Importing required libraries"
   ]
  },
  {
   "cell_type": "code",
   "execution_count": null,
   "id": "5cab4794",
   "metadata": {},
   "outputs": [],
   "source": [
    "import pandas as pd\n",
    "import numpy as np\n",
    "import seaborn as sns\n",
    "import matplotlib.pyplot as plt\n",
    "from sklearn.model_selection import train_test_split, RandomizedSearchCV, cross_val_score\n",
    "from sklearn.preprocessing import StandardScaler\n",
    "from sklearn.linear_model import LinearRegression, Lasso,Ridge\n",
    "from sklearn.ensemble import RandomForestRegressor, GradientBoostingRegressor, AdaBoostRegressor\n",
    "from sklearn.tree import DecisionTreeRegressor\n",
    "from sklearn.neighbors import KNeighborsRegressor\n",
    "from sklearn.metrics import r2_score, mean_squared_error\n",
    "\n",
    "import warnings\n",
    "warnings.filterwarnings(\"ignore\")"
   ]
  },
  {
   "cell_type": "code",
   "execution_count": null,
   "id": "efe4b04d",
   "metadata": {},
   "outputs": [],
   "source": [
    "flight_df = pd.read_csv(\"Flight price Dataset.csv\")\n",
    "flight_df"
   ]
  },
  {
   "cell_type": "code",
   "execution_count": null,
   "id": "fea62ecf",
   "metadata": {},
   "outputs": [],
   "source": [
    "# Dropping the unwanted column 'Unnamed'\n",
    "flight_df.drop(\"Unnamed: 0\",axis =1,inplace = True)\n",
    "flight_df"
   ]
  },
  {
   "cell_type": "code",
   "execution_count": null,
   "id": "0b6afa9d",
   "metadata": {},
   "outputs": [],
   "source": [
    "flight_df.head()"
   ]
  },
  {
   "cell_type": "code",
   "execution_count": null,
   "id": "9709adc0",
   "metadata": {},
   "outputs": [],
   "source": [
    "flight_df.shape"
   ]
  },
  {
   "cell_type": "code",
   "execution_count": null,
   "id": "c87674dd",
   "metadata": {},
   "outputs": [],
   "source": [
    "flight_df.info()"
   ]
  },
  {
   "cell_type": "code",
   "execution_count": null,
   "id": "32bac034",
   "metadata": {},
   "outputs": [],
   "source": [
    "flight_df.isnull().sum()"
   ]
  },
  {
   "cell_type": "code",
   "execution_count": null,
   "id": "854866ad",
   "metadata": {},
   "outputs": [],
   "source": [
    "flight_df['Additional_Info']=flight_df['Additional_Info'].replace('No info', np.nan)\n",
    "flight_df"
   ]
  },
  {
   "cell_type": "code",
   "execution_count": null,
   "id": "045f2c6b",
   "metadata": {},
   "outputs": [],
   "source": [
    "flight_df.isnull().sum()"
   ]
  },
  {
   "cell_type": "code",
   "execution_count": null,
   "id": "916eca47",
   "metadata": {},
   "outputs": [],
   "source": [
    "#To check missing values\n",
    "sns.heatmap(flight_df.isnull())"
   ]
  },
  {
   "cell_type": "code",
   "execution_count": null,
   "id": "fe320b1b",
   "metadata": {},
   "outputs": [],
   "source": [
    "#To check percent of missing data in column Additional info\n",
    "flight_df['Additional_Info']. isnull(). sum() * 100 / len(flight_df['Additional_Info'])"
   ]
  },
  {
   "cell_type": "markdown",
   "id": "9b0a287d",
   "metadata": {},
   "source": [
    "Here we can see almost 78% of data is missing from Additional_info column. So rather than replacing the nana value with simple imputer, we will drop the Additional info column."
   ]
  },
  {
   "cell_type": "code",
   "execution_count": null,
   "id": "956e6f15",
   "metadata": {},
   "outputs": [],
   "source": [
    "flight_df.drop('Additional_Info', axis=1, inplace=True)\n",
    "flight_df.head()"
   ]
  },
  {
   "cell_type": "markdown",
   "id": "3320dda8",
   "metadata": {},
   "source": [
    "### EXPLORATORY DATA ANALYSIS"
   ]
  },
  {
   "cell_type": "code",
   "execution_count": null,
   "id": "b30c5745",
   "metadata": {},
   "outputs": [],
   "source": [
    "#Checking the unique values counts in the columns\n",
    "obj_col = flight_df.select_dtypes(include= \"object\")\n",
    "for i in obj_col.columns:\n",
    "    print(i)\n",
    "    print(obj_col[i].value_counts(),\"\\n\")"
   ]
  },
  {
   "cell_type": "markdown",
   "id": "f297f5b4",
   "metadata": {},
   "source": [
    "Conclusion:\n",
    "\n",
    "We have multiple airlines data, top 3 airlines names are Indigo, AirAsia and Vistara.\n",
    "\n",
    "Date column has to be converted into datetime columns and date and month from the date needs to be separated for analysin.\n",
    "\n",
    "Major sources of the flights are from major 4 cities i.e. Mumbai, Bangalore, Delhi and Hydrabad.And their destination is also to major cities i.e. Bangalore,New Delhi, Hydrabad and Chennai.\n",
    "\n",
    "Arrival time columns as multiple observations , it has hours, minutes\n",
    "\n",
    "Duration is shown in hours and minutes.\n",
    "\n",
    "Total stops tells that how many stops a flight takes. Most of the flights have no stop. Next to it are the flights which are having 1 stop."
   ]
  },
  {
   "cell_type": "markdown",
   "id": "a0f1dce1",
   "metadata": {},
   "source": [
    "### Creating features by seprating Dep_hour and Dep_min from Departure Time and Arrival Time"
   ]
  },
  {
   "cell_type": "markdown",
   "id": "9274aca9",
   "metadata": {},
   "source": [
    "### Departure Time"
   ]
  },
  {
   "cell_type": "code",
   "execution_count": null,
   "id": "5ddcb0d1",
   "metadata": {},
   "outputs": [],
   "source": [
    "# Departure time is when a plane leaves the gate. \n",
    "\n",
    "# Extracting Hours\n",
    "flight_df[\"Dep_hour\"] = pd.to_datetime(flight_df[\"Dep_Time\"]).dt.hour\n",
    "\n",
    "# Extracting Minutes\n",
    "flight_df[\"Dep_min\"] = pd.to_datetime(flight_df[\"Dep_Time\"]).dt.minute\n",
    "\n",
    "# Now we can drop Dep_Time as it is of no use\n",
    "flight_df.drop([\"Dep_Time\"], axis = 1, inplace = True)"
   ]
  },
  {
   "cell_type": "markdown",
   "id": "d2d3061f",
   "metadata": {},
   "source": [
    "### Arrival Time"
   ]
  },
  {
   "cell_type": "code",
   "execution_count": null,
   "id": "8a28854e",
   "metadata": {},
   "outputs": [],
   "source": [
    "# Arrival time is when the plane pulls up to the gate.\n",
    "\n",
    "# Extracting Hours\n",
    "flight_df[\"Arrival_hour\"] = pd.to_datetime(flight_df['Arrival_Time']).dt.hour\n",
    "\n",
    "# Extracting Minutes\n",
    "flight_df[\"Arrival_min\"] = pd.to_datetime(flight_df['Arrival_Time']).dt.minute\n",
    "\n",
    "# Now we can drop Arrival_Time as it is of no use\n",
    "flight_df.drop([\"Arrival_Time\"], axis = 1, inplace = True)"
   ]
  },
  {
   "cell_type": "code",
   "execution_count": null,
   "id": "62f294fa",
   "metadata": {},
   "outputs": [],
   "source": [
    "flight_df.head()"
   ]
  },
  {
   "cell_type": "markdown",
   "id": "2b1f1554",
   "metadata": {},
   "source": [
    "### Extracting the hours and min from the Duration column"
   ]
  },
  {
   "cell_type": "code",
   "execution_count": null,
   "id": "50312c8d",
   "metadata": {},
   "outputs": [],
   "source": [
    "# Time taken by plane to reach destination is called Duration\n",
    "# It is the differnce betwwen Departure Time and Arrival time\n",
    "# Assigning and converting Duration column into list\n",
    "\n",
    "duration = list(flight_df[\"Duration\"])\n",
    "for i in range(len(duration)):\n",
    "    if len(duration[i].split()) !=2:\n",
    "        if \"h\" in duration[i]:\n",
    "             duration[i] = duration[i].strip() + \" 0m\" \n",
    "        else:\n",
    "            duration[i] = \"0h \" + duration[i]\n",
    "duration_hrs = []\n",
    "duration_min = []\n",
    "\n",
    "for i in range(len(duration)):\n",
    "    duration_hrs.append(int(duration[i].split(\"h\")[0]))\n",
    "    duration_min.append(int(duration[i].split(\"m\")[0].split()[-1]))"
   ]
  },
  {
   "cell_type": "code",
   "execution_count": null,
   "id": "dc880902",
   "metadata": {},
   "outputs": [],
   "source": [
    "flight_df[\"Duration_hours\"] = duration_hrs\n",
    "flight_df[\"Duration_Min\"] = duration_hrs\n",
    "flight_df.drop(\"Duration\",axis = 1,inplace = True)"
   ]
  },
  {
   "cell_type": "code",
   "execution_count": null,
   "id": "7b0e54fb",
   "metadata": {},
   "outputs": [],
   "source": [
    "flight_df.head(2)"
   ]
  },
  {
   "cell_type": "code",
   "execution_count": null,
   "id": "d1b58b8a",
   "metadata": {},
   "outputs": [],
   "source": [
    "# Replacing Total_Stops\n",
    "flight_df.replace({\"Non Stop\": 0, \"1 Stop\": 1, \"2 Stop(s)\": 2}, inplace = True)"
   ]
  },
  {
   "cell_type": "code",
   "execution_count": null,
   "id": "21e37802",
   "metadata": {},
   "outputs": [],
   "source": [
    "flight_df.head(2)"
   ]
  },
  {
   "cell_type": "code",
   "execution_count": null,
   "id": "01edaa49",
   "metadata": {},
   "outputs": [],
   "source": [
    "def convert_price(flight_df):\n",
    "    flight_df['Price (in ₹)'] = flight_df['Price (in ₹)'].str.replace(',', '') # these two lines remove unwanted symbols. Leaving me with a '1100.00' for example\n",
    "    flight_df['Price (in ₹)'] = flight_df['Price (in ₹)'].astype('int64') # convert data to int. \n",
    "    return flight_df"
   ]
  },
  {
   "cell_type": "code",
   "execution_count": null,
   "id": "ed9c25c3",
   "metadata": {},
   "outputs": [],
   "source": [
    "print(convert_price(flight_df))"
   ]
  },
  {
   "cell_type": "code",
   "execution_count": null,
   "id": "86f13ec9",
   "metadata": {},
   "outputs": [],
   "source": [
    "flight_df.head(2)"
   ]
  },
  {
   "cell_type": "code",
   "execution_count": null,
   "id": "d05150de",
   "metadata": {},
   "outputs": [],
   "source": [
    "flight_df.info()"
   ]
  },
  {
   "cell_type": "markdown",
   "id": "4d4b2e0f",
   "metadata": {},
   "source": [
    "#### Univariate Analysis:"
   ]
  },
  {
   "cell_type": "code",
   "execution_count": null,
   "id": "8687a206",
   "metadata": {},
   "outputs": [],
   "source": [
    "flight_df[\"Price (in ₹)\"].describe()"
   ]
  },
  {
   "cell_type": "code",
   "execution_count": null,
   "id": "0d67658d",
   "metadata": {},
   "outputs": [],
   "source": [
    "#histogram\n",
    "flight_df['Price (in ₹)'].hist(bins = 20)"
   ]
  },
  {
   "cell_type": "code",
   "execution_count": null,
   "id": "ec571c33",
   "metadata": {},
   "outputs": [],
   "source": [
    "#skewness & kurtosis\n",
    "print(\"Skewness: %f\" % flight_df['Price (in ₹)'].skew())\n",
    "print(\"Kurtosis: %f\" % flight_df['Price (in ₹)'].kurt())"
   ]
  },
  {
   "cell_type": "code",
   "execution_count": null,
   "id": "8a7dfa30",
   "metadata": {},
   "outputs": [],
   "source": [
    "# For numerical columns\n",
    "flight_df.describe()"
   ]
  },
  {
   "cell_type": "markdown",
   "id": "d5ee927b",
   "metadata": {},
   "source": [
    "### Handling Categorical Data"
   ]
  },
  {
   "cell_type": "code",
   "execution_count": null,
   "id": "b729dda6",
   "metadata": {},
   "outputs": [],
   "source": [
    "plt.figure(figsize=(20,5))\n",
    "plt.subplot(1,2,1)\n",
    "sns.countplot('Source',data=flight_df)\n",
    "plt.subplot(1,2,2)\n",
    "sns.countplot('Total_Stops',data=flight_df)\n",
    "plt.tight_layout()    \n",
    "plt.show()"
   ]
  },
  {
   "cell_type": "code",
   "execution_count": null,
   "id": "d5b9dcd1",
   "metadata": {},
   "outputs": [],
   "source": [
    "sns.set(style=\"whitegrid\")\n",
    "plt.figure(figsize=(10,5))\n",
    "sns.countplot(flight_df.Destination)\n",
    "plt.title(\"Destination\")\n",
    "plt.xticks(rotation=90)\n",
    "plt.show()"
   ]
  },
  {
   "cell_type": "code",
   "execution_count": null,
   "id": "eb198f1b",
   "metadata": {},
   "outputs": [],
   "source": [
    "sns.set(style=\"whitegrid\")\n",
    "plt.figure(figsize=(10,5))\n",
    "sns.countplot(flight_df.Airline)\n",
    "plt.title(\"Airline\")\n",
    "plt.xticks(rotation=90)\n",
    "plt.show()"
   ]
  },
  {
   "cell_type": "code",
   "execution_count": null,
   "id": "f6fde3fd",
   "metadata": {},
   "outputs": [],
   "source": [
    "# Airline vs Price\n",
    "sns.catplot(y = \"Price (in ₹)\", x = \"Airline\", data = flight_df.sort_values(\"Price (in ₹)\", ascending = False), kind=\"boxen\", height = 4, aspect = 3)\n",
    "plt.show()"
   ]
  },
  {
   "cell_type": "code",
   "execution_count": null,
   "id": "3a88ed8e",
   "metadata": {},
   "outputs": [],
   "source": [
    "# Source vs Price\n",
    "sns.catplot(y='Price (in ₹)',x='Source',data=flight_df.sort_values('Price (in ₹)', ascending=False),kind='boxen',height=4,aspect=3)\n",
    "plt.show()"
   ]
  },
  {
   "cell_type": "code",
   "execution_count": null,
   "id": "d59b5aff",
   "metadata": {},
   "outputs": [],
   "source": [
    "plt.figure(figsize =(15,5))\n",
    "flight_df.groupby([\"Source\",\"Destination\"])[\"Price (in ₹)\"].mean().sort_values(ascending= False).plot(kind = \"bar\")"
   ]
  },
  {
   "cell_type": "code",
   "execution_count": null,
   "id": "67d5994f",
   "metadata": {},
   "outputs": [],
   "source": [
    "plt.figure(figsize=(10,3))\n",
    "sns.barplot(x = \"Total_Stops\", y = \"Price (in ₹)\", data = flight_df)"
   ]
  },
  {
   "cell_type": "markdown",
   "id": "0bf6e5ce",
   "metadata": {},
   "source": [
    "### Label Encoding"
   ]
  },
  {
   "cell_type": "code",
   "execution_count": null,
   "id": "49135c22",
   "metadata": {},
   "outputs": [],
   "source": [
    "from sklearn.preprocessing import LabelEncoder\n",
    "\n",
    "le = LabelEncoder()\n",
    "\n",
    "flight_df[\"Airline\"] = le.fit_transform(flight_df[\"Airline\"])\n",
    "flight_df[\"Source\"] = le.fit_transform(flight_df[\"Source\"])\n",
    "flight_df[\"Destination\"] = le.fit_transform(flight_df[\"Destination\"])"
   ]
  },
  {
   "cell_type": "code",
   "execution_count": null,
   "id": "8ec939ce",
   "metadata": {},
   "outputs": [],
   "source": [
    "plt.figure(figsize=(6,4))\n",
    "sns.scatterplot(x =\"Price (in ₹)\", y = \"Duration_hours\" , data = flight_df)"
   ]
  },
  {
   "cell_type": "markdown",
   "id": "c1f32ab3",
   "metadata": {},
   "source": [
    "### Correlation Map"
   ]
  },
  {
   "cell_type": "code",
   "execution_count": null,
   "id": "4ab3a234",
   "metadata": {},
   "outputs": [],
   "source": [
    "flight_df.corr()"
   ]
  },
  {
   "cell_type": "code",
   "execution_count": null,
   "id": "1d25d742",
   "metadata": {},
   "outputs": [],
   "source": [
    "plt.figure(figsize =(10,6))\n",
    "sns.heatmap(flight_df.corr(),annot= True, cmap = \"afmhot_r\")"
   ]
  },
  {
   "cell_type": "markdown",
   "id": "1ebc795b",
   "metadata": {},
   "source": [
    "### Check For Skewness"
   ]
  },
  {
   "cell_type": "code",
   "execution_count": null,
   "id": "664cc1b2",
   "metadata": {},
   "outputs": [],
   "source": [
    "x=flight_df.drop('Price (in ₹)', axis=1)\n",
    "y=flight_df['Price (in ₹)']\n",
    "x"
   ]
  },
  {
   "cell_type": "code",
   "execution_count": null,
   "id": "d89877c9",
   "metadata": {},
   "outputs": [],
   "source": [
    "# Cheking Skewness\n",
    "x.skew().sort_values(ascending=False)"
   ]
  },
  {
   "cell_type": "code",
   "execution_count": null,
   "id": "4d530082",
   "metadata": {},
   "outputs": [],
   "source": [
    "from sklearn.preprocessing import power_transform\n",
    "x_new=power_transform(x)\n",
    "type(x_new)"
   ]
  },
  {
   "cell_type": "code",
   "execution_count": null,
   "id": "28311c4f",
   "metadata": {},
   "outputs": [],
   "source": [
    "x.columns"
   ]
  },
  {
   "cell_type": "code",
   "execution_count": null,
   "id": "78ac210f",
   "metadata": {},
   "outputs": [],
   "source": [
    "x=pd.DataFrame(x_new, columns=x.columns)\n",
    "x"
   ]
  },
  {
   "cell_type": "code",
   "execution_count": null,
   "id": "a8842191",
   "metadata": {},
   "outputs": [],
   "source": [
    "# Again Cheking Skewness if it has been removed \n",
    "x.skew().sort_values(ascending=False)"
   ]
  },
  {
   "cell_type": "code",
   "execution_count": null,
   "id": "2116b5d9",
   "metadata": {},
   "outputs": [],
   "source": [
    "x.plot(kind='box',subplots=True,layout=(2,5),figsize=(8,8))"
   ]
  },
  {
   "cell_type": "markdown",
   "id": "5118ccfd",
   "metadata": {},
   "source": [
    "## Features Scaling / Standard Scaler:"
   ]
  },
  {
   "cell_type": "code",
   "execution_count": null,
   "id": "5554e6c9",
   "metadata": {},
   "outputs": [],
   "source": [
    "# Performing Standard scaler\n",
    "sc = StandardScaler()\n",
    "X = sc.fit_transform(x)\n"
   ]
  },
  {
   "cell_type": "markdown",
   "id": "f7ae0d4e",
   "metadata": {},
   "source": [
    "### Finding Best Random State"
   ]
  },
  {
   "cell_type": "code",
   "execution_count": null,
   "id": "ed9905f3",
   "metadata": {},
   "outputs": [],
   "source": [
    "maxScore = 0\n",
    "maxRS = 0\n",
    "\n",
    "for i in range(1,300):\n",
    "    x_train,x_test,y_train,y_test=train_test_split(X,y,test_size=0.2,random_state=i)\n",
    "    lr = LinearRegression()\n",
    "    lr.fit(x_train,y_train)\n",
    "    pred_train = lr.predict(x_train)\n",
    "    pred_test = lr.predict(x_test)\n",
    "    acc=r2_score(y_test,pred_test)\n",
    "    if acc>maxScore:\n",
    "        maxScore=acc\n",
    "        maxRS=i\n",
    "print('Best score is',maxScore,'on Random State',maxRS)"
   ]
  },
  {
   "cell_type": "code",
   "execution_count": null,
   "id": "9fa62be9",
   "metadata": {},
   "outputs": [],
   "source": [
    "model = [LinearRegression(),Lasso(alpha=1.0),Ridge(alpha=1.0),DecisionTreeRegressor(criterion='squared_error'),\n",
    "         KNeighborsRegressor()]\n",
    "for i in model:\n",
    "    X_train1,X_test1,y_train1,y_test1 = train_test_split(X,y, test_size = 0.2, random_state =maxRS)\n",
    "    i.fit(X_train1,y_train1)\n",
    "    pred = i.predict(X_test1)\n",
    "    print('Train Score of', i , 'is:' , i.score(X_train1,y_train1))\n",
    "    print(\"r2_score\", r2_score(y_test1, pred))\n",
    "    print(\"mean_squred_error\", mean_squared_error(y_test1, pred))\n",
    "    print(\"RMSE\", np.sqrt(mean_squared_error(y_test1, pred)),\"\\n\")"
   ]
  },
  {
   "cell_type": "markdown",
   "id": "75e6880a",
   "metadata": {},
   "source": [
    "### Cross Validation"
   ]
  },
  {
   "cell_type": "code",
   "execution_count": null,
   "id": "0319ad4b",
   "metadata": {},
   "outputs": [],
   "source": [
    "best_Ada_Boost = AdaBoostRegressor(n_estimators= 50, loss= 'linear', learning_rate =1, random_state=111)\n",
    "\n",
    "for i in range(2,11):\n",
    "    cross_score = cross_val_score(best_Ada_Boost,X,y,cv = i,n_jobs = -1) \n",
    "    print(i,\"mean\",cross_score.mean() ,\"and STD\" , cross_score.std())"
   ]
  },
  {
   "cell_type": "code",
   "execution_count": null,
   "id": "7235272d",
   "metadata": {},
   "outputs": [],
   "source": []
  }
 ],
 "metadata": {
  "kernelspec": {
   "display_name": "Python 3 (ipykernel)",
   "language": "python",
   "name": "python3"
  },
  "language_info": {
   "codemirror_mode": {
    "name": "ipython",
    "version": 3
   },
   "file_extension": ".py",
   "mimetype": "text/x-python",
   "name": "python",
   "nbconvert_exporter": "python",
   "pygments_lexer": "ipython3",
   "version": "3.9.7"
  }
 },
 "nbformat": 4,
 "nbformat_minor": 5
}
